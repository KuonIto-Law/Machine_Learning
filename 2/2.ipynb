{
 "cells": [
  {
   "cell_type": "markdown",
   "metadata": {},
   "source": [
    "Data Mining: Basic Concepts - Winter 2023/24\n",
    "---------------\n",
    "``` \n",
    "> University of Konstanz \n",
    "> Department of Computer and Information Science\n",
    "> Maximilian T. Fischer, Frederik Dennig, Yannick Metz, Udo Schlegel\n",
    "```\n",
    "__Organize in teams of 2 people, return the exercise on time using ILIAS__"
   ]
  },
  {
   "cell_type": "markdown",
   "metadata": {},
   "source": [
    "---"
   ]
  },
  {
   "cell_type": "markdown",
   "metadata": {},
   "source": [
    "Assignment 02 in Python"
   ]
  },
  {
   "cell_type": "markdown",
   "metadata": {},
   "source": [
    "---"
   ]
  },
  {
   "cell_type": "markdown",
   "metadata": {},
   "source": [
    "#### Exercise 1: Data Types\n",
    "Imagine you have the following dataset:\n",
    "\n",
    "| Date  \t| City   \t| Country  \t| Temperature | Wind\t|\n",
    "|------ \t|----------\t|-----------|-------------|---------|\n",
    "|11.10.2022 |Konstanz   | Germany   |  17°C       | Low     |\n",
    "|11.10.2022 |Chicago    | US        |  18°C       | Strong  |\n",
    "|13.10.2022 |Sydney     | Australia |  11°C       | Medium  |"
   ]
  },
  {
   "cell_type": "markdown",
   "metadata": {},
   "source": [
    "##### __(a) Describe for each column whether it contains nominal, ordinal or numerical data and explain why you made that decision__"
   ]
  },
  {
   "cell_type": "markdown",
   "metadata": {},
   "source": [
    "```\n",
    ">> Date: numerical, can be represented numerically using formats like timestamps\n",
    "   City: nominal, represents categories or labels, with no quantitative relationship between categories\n",
    "   Country: nominal, represents categories or labels, with no quantitative relationship between categories\n",
    "   Temperature: numerical, represents a measurable quantity and can be ordered and used for mathematical operations\n",
    "   Wind: ordinal, represents categories with a meaningful order, but the distance between values do not have any meaning\n",
    "```"
   ]
  },
  {
   "cell_type": "markdown",
   "metadata": {},
   "source": [
    "##### __(b) Give at least one mathematical operation that can be used on all three data types__"
   ]
  },
  {
   "cell_type": "markdown",
   "metadata": {},
   "source": [
    "```\n",
    ">> The \"count\" function can be performed on all three data types, which is a basic statistical operation.\n",
    "```"
   ]
  },
  {
   "cell_type": "markdown",
   "metadata": {},
   "source": [
    "---"
   ]
  },
  {
   "cell_type": "markdown",
   "metadata": {},
   "source": [
    "#### Exercise 2: Missing Values"
   ]
  },
  {
   "cell_type": "code",
   "execution_count": 1,
   "metadata": {},
   "outputs": [],
   "source": [
    "import pandas as pd\n",
    "import seaborn as sns\n",
    "import numpy as np\n",
    "import matplotlib.pyplot as plt"
   ]
  },
  {
   "cell_type": "code",
   "execution_count": 2,
   "metadata": {},
   "outputs": [
    {
     "data": {
      "text/html": [
       "<div>\n",
       "<style scoped>\n",
       "    .dataframe tbody tr th:only-of-type {\n",
       "        vertical-align: middle;\n",
       "    }\n",
       "\n",
       "    .dataframe tbody tr th {\n",
       "        vertical-align: top;\n",
       "    }\n",
       "\n",
       "    .dataframe thead th {\n",
       "        text-align: right;\n",
       "    }\n",
       "</style>\n",
       "<table border=\"1\" class=\"dataframe\">\n",
       "  <thead>\n",
       "    <tr style=\"text-align: right;\">\n",
       "      <th></th>\n",
       "      <th>x</th>\n",
       "      <th>y</th>\n",
       "    </tr>\n",
       "  </thead>\n",
       "  <tbody>\n",
       "    <tr>\n",
       "      <th>0</th>\n",
       "      <td>-2.000000</td>\n",
       "      <td>-15.000000</td>\n",
       "    </tr>\n",
       "    <tr>\n",
       "      <th>1</th>\n",
       "      <td>-1.939394</td>\n",
       "      <td>-13.309236</td>\n",
       "    </tr>\n",
       "    <tr>\n",
       "      <th>2</th>\n",
       "      <td>-1.878788</td>\n",
       "      <td>-11.690597</td>\n",
       "    </tr>\n",
       "    <tr>\n",
       "      <th>3</th>\n",
       "      <td>-1.818182</td>\n",
       "      <td>-10.142750</td>\n",
       "    </tr>\n",
       "    <tr>\n",
       "      <th>4</th>\n",
       "      <td>-1.757576</td>\n",
       "      <td>-8.664357</td>\n",
       "    </tr>\n",
       "    <tr>\n",
       "      <th>...</th>\n",
       "      <td>...</td>\n",
       "      <td>...</td>\n",
       "    </tr>\n",
       "    <tr>\n",
       "      <th>95</th>\n",
       "      <td>3.757576</td>\n",
       "      <td>8.455909</td>\n",
       "    </tr>\n",
       "    <tr>\n",
       "      <th>96</th>\n",
       "      <td>3.818182</td>\n",
       "      <td>9.258452</td>\n",
       "    </tr>\n",
       "    <tr>\n",
       "      <th>97</th>\n",
       "      <td>3.878788</td>\n",
       "      <td>10.115758</td>\n",
       "    </tr>\n",
       "    <tr>\n",
       "      <th>98</th>\n",
       "      <td>3.939394</td>\n",
       "      <td>11.029162</td>\n",
       "    </tr>\n",
       "    <tr>\n",
       "      <th>99</th>\n",
       "      <td>4.000000</td>\n",
       "      <td>12.000000</td>\n",
       "    </tr>\n",
       "  </tbody>\n",
       "</table>\n",
       "<p>100 rows × 2 columns</p>\n",
       "</div>"
      ],
      "text/plain": [
       "           x          y\n",
       "0  -2.000000 -15.000000\n",
       "1  -1.939394 -13.309236\n",
       "2  -1.878788 -11.690597\n",
       "3  -1.818182 -10.142750\n",
       "4  -1.757576  -8.664357\n",
       "..       ...        ...\n",
       "95  3.757576   8.455909\n",
       "96  3.818182   9.258452\n",
       "97  3.878788  10.115758\n",
       "98  3.939394  11.029162\n",
       "99  4.000000  12.000000\n",
       "\n",
       "[100 rows x 2 columns]"
      ]
     },
     "execution_count": 2,
     "metadata": {},
     "output_type": "execute_result"
    }
   ],
   "source": [
    "df = pd.read_csv('data/data_exercise2.csv')\n",
    "df"
   ]
  },
  {
   "cell_type": "markdown",
   "metadata": {},
   "source": [
    "##### __The data contains missing values. In the following we will apply 4 different ways to deal with missing values known from the lecture.__ "
   ]
  },
  {
   "cell_type": "markdown",
   "metadata": {},
   "source": [
    "##### __(a) Drop the rows containing missing values and store your result as ``df1`` (Note: do not drop the rows in the original ``df``).__ "
   ]
  },
  {
   "cell_type": "code",
   "execution_count": 3,
   "metadata": {},
   "outputs": [
    {
     "data": {
      "text/html": [
       "<div>\n",
       "<style scoped>\n",
       "    .dataframe tbody tr th:only-of-type {\n",
       "        vertical-align: middle;\n",
       "    }\n",
       "\n",
       "    .dataframe tbody tr th {\n",
       "        vertical-align: top;\n",
       "    }\n",
       "\n",
       "    .dataframe thead th {\n",
       "        text-align: right;\n",
       "    }\n",
       "</style>\n",
       "<table border=\"1\" class=\"dataframe\">\n",
       "  <thead>\n",
       "    <tr style=\"text-align: right;\">\n",
       "      <th></th>\n",
       "      <th>x</th>\n",
       "      <th>y</th>\n",
       "    </tr>\n",
       "  </thead>\n",
       "  <tbody>\n",
       "    <tr>\n",
       "      <th>0</th>\n",
       "      <td>-2.000000</td>\n",
       "      <td>-15.000000</td>\n",
       "    </tr>\n",
       "    <tr>\n",
       "      <th>1</th>\n",
       "      <td>-1.939394</td>\n",
       "      <td>-13.309236</td>\n",
       "    </tr>\n",
       "    <tr>\n",
       "      <th>2</th>\n",
       "      <td>-1.878788</td>\n",
       "      <td>-11.690597</td>\n",
       "    </tr>\n",
       "    <tr>\n",
       "      <th>3</th>\n",
       "      <td>-1.818182</td>\n",
       "      <td>-10.142750</td>\n",
       "    </tr>\n",
       "    <tr>\n",
       "      <th>4</th>\n",
       "      <td>-1.757576</td>\n",
       "      <td>-8.664357</td>\n",
       "    </tr>\n",
       "    <tr>\n",
       "      <th>...</th>\n",
       "      <td>...</td>\n",
       "      <td>...</td>\n",
       "    </tr>\n",
       "    <tr>\n",
       "      <th>95</th>\n",
       "      <td>3.757576</td>\n",
       "      <td>8.455909</td>\n",
       "    </tr>\n",
       "    <tr>\n",
       "      <th>96</th>\n",
       "      <td>3.818182</td>\n",
       "      <td>9.258452</td>\n",
       "    </tr>\n",
       "    <tr>\n",
       "      <th>97</th>\n",
       "      <td>3.878788</td>\n",
       "      <td>10.115758</td>\n",
       "    </tr>\n",
       "    <tr>\n",
       "      <th>98</th>\n",
       "      <td>3.939394</td>\n",
       "      <td>11.029162</td>\n",
       "    </tr>\n",
       "    <tr>\n",
       "      <th>99</th>\n",
       "      <td>4.000000</td>\n",
       "      <td>12.000000</td>\n",
       "    </tr>\n",
       "  </tbody>\n",
       "</table>\n",
       "<p>98 rows × 2 columns</p>\n",
       "</div>"
      ],
      "text/plain": [
       "           x          y\n",
       "0  -2.000000 -15.000000\n",
       "1  -1.939394 -13.309236\n",
       "2  -1.878788 -11.690597\n",
       "3  -1.818182 -10.142750\n",
       "4  -1.757576  -8.664357\n",
       "..       ...        ...\n",
       "95  3.757576   8.455909\n",
       "96  3.818182   9.258452\n",
       "97  3.878788  10.115758\n",
       "98  3.939394  11.029162\n",
       "99  4.000000  12.000000\n",
       "\n",
       "[98 rows x 2 columns]"
      ]
     },
     "execution_count": 3,
     "metadata": {},
     "output_type": "execute_result"
    }
   ],
   "source": [
    "df1 = df.dropna()\n",
    "df1"
   ]
  },
  {
   "cell_type": "markdown",
   "metadata": {},
   "source": [
    "##### __(b) Another method is to assign a global constant to missing values. Assign ``-1`` to each missing value and store the new dataframe in ``df2``.__ "
   ]
  },
  {
   "cell_type": "code",
   "execution_count": 4,
   "metadata": {},
   "outputs": [
    {
     "data": {
      "text/html": [
       "<div>\n",
       "<style scoped>\n",
       "    .dataframe tbody tr th:only-of-type {\n",
       "        vertical-align: middle;\n",
       "    }\n",
       "\n",
       "    .dataframe tbody tr th {\n",
       "        vertical-align: top;\n",
       "    }\n",
       "\n",
       "    .dataframe thead th {\n",
       "        text-align: right;\n",
       "    }\n",
       "</style>\n",
       "<table border=\"1\" class=\"dataframe\">\n",
       "  <thead>\n",
       "    <tr style=\"text-align: right;\">\n",
       "      <th></th>\n",
       "      <th>x</th>\n",
       "      <th>y</th>\n",
       "    </tr>\n",
       "  </thead>\n",
       "  <tbody>\n",
       "    <tr>\n",
       "      <th>0</th>\n",
       "      <td>-2.000000</td>\n",
       "      <td>-15.000000</td>\n",
       "    </tr>\n",
       "    <tr>\n",
       "      <th>1</th>\n",
       "      <td>-1.939394</td>\n",
       "      <td>-13.309236</td>\n",
       "    </tr>\n",
       "    <tr>\n",
       "      <th>2</th>\n",
       "      <td>-1.878788</td>\n",
       "      <td>-11.690597</td>\n",
       "    </tr>\n",
       "    <tr>\n",
       "      <th>3</th>\n",
       "      <td>-1.818182</td>\n",
       "      <td>-10.142750</td>\n",
       "    </tr>\n",
       "    <tr>\n",
       "      <th>4</th>\n",
       "      <td>-1.757576</td>\n",
       "      <td>-8.664357</td>\n",
       "    </tr>\n",
       "    <tr>\n",
       "      <th>...</th>\n",
       "      <td>...</td>\n",
       "      <td>...</td>\n",
       "    </tr>\n",
       "    <tr>\n",
       "      <th>95</th>\n",
       "      <td>3.757576</td>\n",
       "      <td>8.455909</td>\n",
       "    </tr>\n",
       "    <tr>\n",
       "      <th>96</th>\n",
       "      <td>3.818182</td>\n",
       "      <td>9.258452</td>\n",
       "    </tr>\n",
       "    <tr>\n",
       "      <th>97</th>\n",
       "      <td>3.878788</td>\n",
       "      <td>10.115758</td>\n",
       "    </tr>\n",
       "    <tr>\n",
       "      <th>98</th>\n",
       "      <td>3.939394</td>\n",
       "      <td>11.029162</td>\n",
       "    </tr>\n",
       "    <tr>\n",
       "      <th>99</th>\n",
       "      <td>4.000000</td>\n",
       "      <td>12.000000</td>\n",
       "    </tr>\n",
       "  </tbody>\n",
       "</table>\n",
       "<p>100 rows × 2 columns</p>\n",
       "</div>"
      ],
      "text/plain": [
       "           x          y\n",
       "0  -2.000000 -15.000000\n",
       "1  -1.939394 -13.309236\n",
       "2  -1.878788 -11.690597\n",
       "3  -1.818182 -10.142750\n",
       "4  -1.757576  -8.664357\n",
       "..       ...        ...\n",
       "95  3.757576   8.455909\n",
       "96  3.818182   9.258452\n",
       "97  3.878788  10.115758\n",
       "98  3.939394  11.029162\n",
       "99  4.000000  12.000000\n",
       "\n",
       "[100 rows x 2 columns]"
      ]
     },
     "execution_count": 4,
     "metadata": {},
     "output_type": "execute_result"
    }
   ],
   "source": [
    "df2 = df.fillna(-1)\n",
    "df2"
   ]
  },
  {
   "cell_type": "markdown",
   "metadata": {
    "tags": []
   },
   "source": [
    "##### __(c) Now fill in the missing values using the attribute mean and store it in ``df3``. Plot the result using the ``seaborn.scatterplot``method.__ "
   ]
  },
  {
   "cell_type": "code",
   "execution_count": 5,
   "metadata": {},
   "outputs": [
    {
     "data": {
      "text/html": [
       "<div>\n",
       "<style scoped>\n",
       "    .dataframe tbody tr th:only-of-type {\n",
       "        vertical-align: middle;\n",
       "    }\n",
       "\n",
       "    .dataframe tbody tr th {\n",
       "        vertical-align: top;\n",
       "    }\n",
       "\n",
       "    .dataframe thead th {\n",
       "        text-align: right;\n",
       "    }\n",
       "</style>\n",
       "<table border=\"1\" class=\"dataframe\">\n",
       "  <thead>\n",
       "    <tr style=\"text-align: right;\">\n",
       "      <th></th>\n",
       "      <th>x</th>\n",
       "      <th>y</th>\n",
       "    </tr>\n",
       "  </thead>\n",
       "  <tbody>\n",
       "    <tr>\n",
       "      <th>0</th>\n",
       "      <td>-2.000000</td>\n",
       "      <td>-15.000000</td>\n",
       "    </tr>\n",
       "    <tr>\n",
       "      <th>1</th>\n",
       "      <td>-1.939394</td>\n",
       "      <td>-13.309236</td>\n",
       "    </tr>\n",
       "    <tr>\n",
       "      <th>2</th>\n",
       "      <td>-1.878788</td>\n",
       "      <td>-11.690597</td>\n",
       "    </tr>\n",
       "    <tr>\n",
       "      <th>3</th>\n",
       "      <td>-1.818182</td>\n",
       "      <td>-10.142750</td>\n",
       "    </tr>\n",
       "    <tr>\n",
       "      <th>4</th>\n",
       "      <td>-1.757576</td>\n",
       "      <td>-8.664357</td>\n",
       "    </tr>\n",
       "    <tr>\n",
       "      <th>...</th>\n",
       "      <td>...</td>\n",
       "      <td>...</td>\n",
       "    </tr>\n",
       "    <tr>\n",
       "      <th>95</th>\n",
       "      <td>3.757576</td>\n",
       "      <td>8.455909</td>\n",
       "    </tr>\n",
       "    <tr>\n",
       "      <th>96</th>\n",
       "      <td>3.818182</td>\n",
       "      <td>9.258452</td>\n",
       "    </tr>\n",
       "    <tr>\n",
       "      <th>97</th>\n",
       "      <td>3.878788</td>\n",
       "      <td>10.115758</td>\n",
       "    </tr>\n",
       "    <tr>\n",
       "      <th>98</th>\n",
       "      <td>3.939394</td>\n",
       "      <td>11.029162</td>\n",
       "    </tr>\n",
       "    <tr>\n",
       "      <th>99</th>\n",
       "      <td>4.000000</td>\n",
       "      <td>12.000000</td>\n",
       "    </tr>\n",
       "  </tbody>\n",
       "</table>\n",
       "<p>100 rows × 2 columns</p>\n",
       "</div>"
      ],
      "text/plain": [
       "           x          y\n",
       "0  -2.000000 -15.000000\n",
       "1  -1.939394 -13.309236\n",
       "2  -1.878788 -11.690597\n",
       "3  -1.818182 -10.142750\n",
       "4  -1.757576  -8.664357\n",
       "..       ...        ...\n",
       "95  3.757576   8.455909\n",
       "96  3.818182   9.258452\n",
       "97  3.878788  10.115758\n",
       "98  3.939394  11.029162\n",
       "99  4.000000  12.000000\n",
       "\n",
       "[100 rows x 2 columns]"
      ]
     },
     "execution_count": 5,
     "metadata": {},
     "output_type": "execute_result"
    }
   ],
   "source": [
    "df3 = df.fillna(df.mean())\n",
    "df3"
   ]
  },
  {
   "cell_type": "code",
   "execution_count": 6,
   "metadata": {},
   "outputs": [
    {
     "data": {
      "image/png": "[encoded data removed]",
      "text/plain": [
       "<Figure size 640x480 with 1 Axes>"
      ]
     },
     "metadata": {},
     "output_type": "display_data"
    }
   ],
   "source": [
    "sns.scatterplot(data=df3, x='x', y='y', label='df3')\n",
    "plt.show()"
   ]
  },
  {
   "cell_type": "markdown",
   "metadata": {},
   "source": [
    "##### __(d) Instead of filling the missing values with the mean, we will now try to fill them using regression.__\n",
    "##### __(d.1)What polynomial degree does the function you are looking for most likely have?__ _(Hint: Use the ``seaborn.regplot`` method and modify the ``order`` parameter)_"
   ]
  },
  {
   "cell_type": "code",
   "execution_count": 7,
   "metadata": {},
   "outputs": [
    {
     "data": {
      "image/png": "[encoded data removed]",
      "text/plain": [
       "<Figure size 640x480 with 1 Axes>"
      ]
     },
     "metadata": {},
     "output_type": "display_data"
    }
   ],
   "source": [
    "degree = 3\n",
    "sns.regplot(data=df,x=\"x\", y=\"y\", order=degree)\n",
    "plt.title(f'Polynomial Degree {degree}')\n",
    "plt.show()"
   ]
  },
  {
   "cell_type": "markdown",
   "metadata": {},
   "source": [
    "```\n",
    "> Polynomial degree 3 \n",
    "```"
   ]
  },
  {
   "cell_type": "markdown",
   "metadata": {},
   "source": [
    "##### __(d.2) Compute the coefficients for the function that describes the data__ _(Hint: drop missing values and use ``numpy.polyfit()``)_"
   ]
  },
  {
   "cell_type": "code",
   "execution_count": 8,
   "metadata": {},
   "outputs": [
    {
     "name": "stdout",
     "output_type": "stream",
     "text": [
      "[ 1.  -4.   0.5 10. ]\n"
     ]
    }
   ],
   "source": [
    "coefficients = np.polyfit(df1['x'], df1['y'], degree) # Using the dataframe with the missing vlaues dropped\n",
    "print(coefficients)"
   ]
  },
  {
   "cell_type": "markdown",
   "metadata": {},
   "source": [
    "##### __(d.3) Use the computed polynomial coefficients to implement a regression method. Use the method to fill the missing values in the dataframe with values  and store it as ``df4``.__"
   ]
  },
  {
   "cell_type": "code",
   "execution_count": 9,
   "metadata": {},
   "outputs": [
    {
     "data": {
      "text/html": [
       "<div>\n",
       "<style scoped>\n",
       "    .dataframe tbody tr th:only-of-type {\n",
       "        vertical-align: middle;\n",
       "    }\n",
       "\n",
       "    .dataframe tbody tr th {\n",
       "        vertical-align: top;\n",
       "    }\n",
       "\n",
       "    .dataframe thead th {\n",
       "        text-align: right;\n",
       "    }\n",
       "</style>\n",
       "<table border=\"1\" class=\"dataframe\">\n",
       "  <thead>\n",
       "    <tr style=\"text-align: right;\">\n",
       "      <th></th>\n",
       "      <th>x</th>\n",
       "      <th>y</th>\n",
       "    </tr>\n",
       "  </thead>\n",
       "  <tbody>\n",
       "    <tr>\n",
       "      <th>0</th>\n",
       "      <td>-2.000000</td>\n",
       "      <td>-15.000000</td>\n",
       "    </tr>\n",
       "    <tr>\n",
       "      <th>1</th>\n",
       "      <td>-1.939394</td>\n",
       "      <td>-13.309236</td>\n",
       "    </tr>\n",
       "    <tr>\n",
       "      <th>2</th>\n",
       "      <td>-1.878788</td>\n",
       "      <td>-11.690597</td>\n",
       "    </tr>\n",
       "    <tr>\n",
       "      <th>3</th>\n",
       "      <td>-1.818182</td>\n",
       "      <td>-10.142750</td>\n",
       "    </tr>\n",
       "    <tr>\n",
       "      <th>4</th>\n",
       "      <td>-1.757576</td>\n",
       "      <td>-8.664357</td>\n",
       "    </tr>\n",
       "    <tr>\n",
       "      <th>...</th>\n",
       "      <td>...</td>\n",
       "      <td>...</td>\n",
       "    </tr>\n",
       "    <tr>\n",
       "      <th>95</th>\n",
       "      <td>3.757576</td>\n",
       "      <td>8.455909</td>\n",
       "    </tr>\n",
       "    <tr>\n",
       "      <th>96</th>\n",
       "      <td>3.818182</td>\n",
       "      <td>9.258452</td>\n",
       "    </tr>\n",
       "    <tr>\n",
       "      <th>97</th>\n",
       "      <td>3.878788</td>\n",
       "      <td>10.115758</td>\n",
       "    </tr>\n",
       "    <tr>\n",
       "      <th>98</th>\n",
       "      <td>3.939394</td>\n",
       "      <td>11.029162</td>\n",
       "    </tr>\n",
       "    <tr>\n",
       "      <th>99</th>\n",
       "      <td>4.000000</td>\n",
       "      <td>12.000000</td>\n",
       "    </tr>\n",
       "  </tbody>\n",
       "</table>\n",
       "<p>100 rows × 2 columns</p>\n",
       "</div>"
      ],
      "text/plain": [
       "           x          y\n",
       "0  -2.000000 -15.000000\n",
       "1  -1.939394 -13.309236\n",
       "2  -1.878788 -11.690597\n",
       "3  -1.818182 -10.142750\n",
       "4  -1.757576  -8.664357\n",
       "..       ...        ...\n",
       "95  3.757576   8.455909\n",
       "96  3.818182   9.258452\n",
       "97  3.878788  10.115758\n",
       "98  3.939394  11.029162\n",
       "99  4.000000  12.000000\n",
       "\n",
       "[100 rows x 2 columns]"
      ]
     },
     "execution_count": 9,
     "metadata": {},
     "output_type": "execute_result"
    }
   ],
   "source": [
    "\n",
    "def polynomial_reg(x, coefficients):\n",
    "    result = 0\n",
    "    for i in range(len(coefficients)):\n",
    "        result += coefficients[i] * (x ** (len(coefficients) - i - 1))\n",
    "        return result\n",
    "\n",
    "df4 = df\n",
    "missing_values = df4[\"y\"].isnull()\n",
    "df4[\"y\"][missing_values] = polynomial_reg(df4[\"x\"][missing_values], coefficients)\n",
    "df4"
   ]
  },
  {
   "cell_type": "markdown",
   "metadata": {
    "tags": []
   },
   "source": [
    "##### __(e) Plot all your results (dropNA, global constant, mean and polynomial regression) and compare the results. Which of the 4 methods would you use here? Explain your decision.__"
   ]
  },
  {
   "cell_type": "code",
   "execution_count": 10,
   "metadata": {},
   "outputs": [
    {
     "data": {
      "image/png": "[encoded data removed]",
      "text/plain": [
       "<Figure size 1600x1200 with 4 Axes>"
      ]
     },
     "metadata": {},
     "output_type": "display_data"
    }
   ],
   "source": [
    "fig, axes = plt.subplots(2, 2, figsize=(16,12))\n",
    "\n",
    "axes[0,0].scatter(df1[\"x\"], df1[\"y\"], label='df1')\n",
    "axes[0,0].set_title(\"drop rows with missing values\")\n",
    "\n",
    "axes[0,1].scatter(df2[\"x\"], df2[\"y\"], label='df2')\n",
    "axes[0,1].set_title(\"golbal constant '-1'\")\n",
    "\n",
    "axes[1,0].scatter(df3[\"x\"], df3[\"y\"], label='df3')\n",
    "axes[1,0].set_title(\"fill missing values with mean\")\n",
    "\n",
    "axes[1,1].scatter(df4[\"x\"], df4[\"y\"], label='df4')\n",
    "axes[1,1].set_title(\"regression\")\n",
    "\n",
    "for ax in axes.flatten():\n",
    "    ax.set_xlabel('x')\n",
    "    ax.set_ylabel('y')\n",
    "    ax.legend()\n",
    "    \n",
    "plt.tight_layout()\n",
    "plt.show()"
   ]
  },
  {
   "cell_type": "markdown",
   "metadata": {},
   "source": [
    "```\n",
    ">> In this case, I believe that \"dropping the missing rows\" is the most appropriate choice.\n",
    "    (1) Small Portion of Dataset:\n",
    "        The missing values constitute a very small portion of the dataset (2%).\n",
    "        Thus dropping these rows does not result in a significant loss of information.\n",
    "\n",
    "    (2) Potential Outliers from Other Methods:\n",
    "        The other 3 methods introduce potential outliers, and these outliers may skew the analysis.\n",
    "\n",
    "    (3) Preservation of Data Integrity:\n",
    "        Choosing to drop missing values preserves the integrity of the existing data without introducing artificial values.\n",
    "```"
   ]
  },
  {
   "cell_type": "markdown",
   "metadata": {},
   "source": [
    "---"
   ]
  },
  {
   "cell_type": "markdown",
   "metadata": {},
   "source": [
    "#### Exercise 3: Data Cleaning\n",
    "Clean the following cereal dataset containing nutrition data on 80 cereal products. The commands have to work for different datasets as well. \n",
    "\n",
    "Careful: If you like to eat cereal, do yourself a favor and do not look at the numbers. After seeing these data it will never be the same to eat Fruity Pebbles again."
   ]
  },
  {
   "cell_type": "code",
   "execution_count": 11,
   "metadata": {},
   "outputs": [
    {
     "data": {
      "text/html": [
       "<div>\n",
       "<style scoped>\n",
       "    .dataframe tbody tr th:only-of-type {\n",
       "        vertical-align: middle;\n",
       "    }\n",
       "\n",
       "    .dataframe tbody tr th {\n",
       "        vertical-align: top;\n",
       "    }\n",
       "\n",
       "    .dataframe thead th {\n",
       "        text-align: right;\n",
       "    }\n",
       "</style>\n",
       "<table border=\"1\" class=\"dataframe\">\n",
       "  <thead>\n",
       "    <tr style=\"text-align: right;\">\n",
       "      <th></th>\n",
       "      <th>name</th>\n",
       "      <th>mfr</th>\n",
       "      <th>type</th>\n",
       "      <th>calories</th>\n",
       "      <th>protein</th>\n",
       "      <th>fat</th>\n",
       "      <th>sodium</th>\n",
       "      <th>fiber</th>\n",
       "      <th>carbo</th>\n",
       "      <th>sugars</th>\n",
       "      <th>potass</th>\n",
       "      <th>vitamins</th>\n",
       "      <th>shelf</th>\n",
       "      <th>weight</th>\n",
       "      <th>cups</th>\n",
       "      <th>rating;;</th>\n",
       "    </tr>\n",
       "  </thead>\n",
       "  <tbody>\n",
       "    <tr>\n",
       "      <th>0</th>\n",
       "      <td>100% Bran</td>\n",
       "      <td>N</td>\n",
       "      <td>C</td>\n",
       "      <td>70.0</td>\n",
       "      <td>4.0</td>\n",
       "      <td>1</td>\n",
       "      <td>130.0</td>\n",
       "      <td>10.0</td>\n",
       "      <td>5.0</td>\n",
       "      <td>6</td>\n",
       "      <td>280.0</td>\n",
       "      <td>25.0</td>\n",
       "      <td>3</td>\n",
       "      <td>1.0</td>\n",
       "      <td>0.33</td>\n",
       "      <td>68.402973;;</td>\n",
       "    </tr>\n",
       "    <tr>\n",
       "      <th>1</th>\n",
       "      <td>100% Natural Bran</td>\n",
       "      <td>Q</td>\n",
       "      <td>C</td>\n",
       "      <td>120.0</td>\n",
       "      <td>3.0</td>\n",
       "      <td>5</td>\n",
       "      <td>15.0</td>\n",
       "      <td>2.0</td>\n",
       "      <td>8.0</td>\n",
       "      <td>8</td>\n",
       "      <td>135.0</td>\n",
       "      <td>0.0</td>\n",
       "      <td>3</td>\n",
       "      <td>1.0</td>\n",
       "      <td>1.00</td>\n",
       "      <td>33.983679;;</td>\n",
       "    </tr>\n",
       "    <tr>\n",
       "      <th>2</th>\n",
       "      <td>All-Bran</td>\n",
       "      <td>K</td>\n",
       "      <td>C</td>\n",
       "      <td>70.0</td>\n",
       "      <td>4.0</td>\n",
       "      <td>1</td>\n",
       "      <td>260.0</td>\n",
       "      <td>9.0</td>\n",
       "      <td>7.0</td>\n",
       "      <td>5</td>\n",
       "      <td>320.0</td>\n",
       "      <td>25.0</td>\n",
       "      <td>3</td>\n",
       "      <td>1.0</td>\n",
       "      <td>0.33</td>\n",
       "      <td>59.425505;;</td>\n",
       "    </tr>\n",
       "    <tr>\n",
       "      <th>3</th>\n",
       "      <td>All-Bran with Extra Fiber</td>\n",
       "      <td>K</td>\n",
       "      <td>C</td>\n",
       "      <td>50.0</td>\n",
       "      <td>4.0</td>\n",
       "      <td>0</td>\n",
       "      <td>140.0</td>\n",
       "      <td>14.0</td>\n",
       "      <td>8.0</td>\n",
       "      <td>0</td>\n",
       "      <td>330.0</td>\n",
       "      <td>25.0</td>\n",
       "      <td>3</td>\n",
       "      <td>1.0</td>\n",
       "      <td>0.50</td>\n",
       "      <td>93.704912;;</td>\n",
       "    </tr>\n",
       "    <tr>\n",
       "      <th>4</th>\n",
       "      <td>Almond Delight</td>\n",
       "      <td>R</td>\n",
       "      <td>C</td>\n",
       "      <td>110.0</td>\n",
       "      <td>2.0</td>\n",
       "      <td>2</td>\n",
       "      <td>200.0</td>\n",
       "      <td>1.0</td>\n",
       "      <td>14.0</td>\n",
       "      <td>8</td>\n",
       "      <td>-1.0</td>\n",
       "      <td>25.0</td>\n",
       "      <td>3</td>\n",
       "      <td>1.0</td>\n",
       "      <td>0.75</td>\n",
       "      <td>34.384843;;</td>\n",
       "    </tr>\n",
       "    <tr>\n",
       "      <th>...</th>\n",
       "      <td>...</td>\n",
       "      <td>...</td>\n",
       "      <td>...</td>\n",
       "      <td>...</td>\n",
       "      <td>...</td>\n",
       "      <td>...</td>\n",
       "      <td>...</td>\n",
       "      <td>...</td>\n",
       "      <td>...</td>\n",
       "      <td>...</td>\n",
       "      <td>...</td>\n",
       "      <td>...</td>\n",
       "      <td>...</td>\n",
       "      <td>...</td>\n",
       "      <td>...</td>\n",
       "      <td>...</td>\n",
       "    </tr>\n",
       "    <tr>\n",
       "      <th>72</th>\n",
       "      <td>Triples</td>\n",
       "      <td>G</td>\n",
       "      <td>C</td>\n",
       "      <td>110.0</td>\n",
       "      <td>2.0</td>\n",
       "      <td>1</td>\n",
       "      <td>250.0</td>\n",
       "      <td>0.0</td>\n",
       "      <td>21.0</td>\n",
       "      <td>3</td>\n",
       "      <td>60.0</td>\n",
       "      <td>25.0</td>\n",
       "      <td>3</td>\n",
       "      <td>1.0</td>\n",
       "      <td>0.75</td>\n",
       "      <td>39.106174;;</td>\n",
       "    </tr>\n",
       "    <tr>\n",
       "      <th>73</th>\n",
       "      <td>Trix</td>\n",
       "      <td>G</td>\n",
       "      <td>C</td>\n",
       "      <td>110.0</td>\n",
       "      <td>1.0</td>\n",
       "      <td>1</td>\n",
       "      <td>140.0</td>\n",
       "      <td>0.0</td>\n",
       "      <td>13.0</td>\n",
       "      <td>12</td>\n",
       "      <td>25.0</td>\n",
       "      <td>25.0</td>\n",
       "      <td>2</td>\n",
       "      <td>1.0</td>\n",
       "      <td>1.00</td>\n",
       "      <td>27.753301;;</td>\n",
       "    </tr>\n",
       "    <tr>\n",
       "      <th>74</th>\n",
       "      <td>Wheat Chex</td>\n",
       "      <td>R</td>\n",
       "      <td>C</td>\n",
       "      <td>100.0</td>\n",
       "      <td>3.0</td>\n",
       "      <td>1</td>\n",
       "      <td>NaN</td>\n",
       "      <td>3.0</td>\n",
       "      <td>17.0</td>\n",
       "      <td>3</td>\n",
       "      <td>115.0</td>\n",
       "      <td>25.0</td>\n",
       "      <td>1</td>\n",
       "      <td>1.0</td>\n",
       "      <td>0.67</td>\n",
       "      <td>49.787445;;</td>\n",
       "    </tr>\n",
       "    <tr>\n",
       "      <th>75</th>\n",
       "      <td>Wheaties</td>\n",
       "      <td>G</td>\n",
       "      <td>C</td>\n",
       "      <td>100.0</td>\n",
       "      <td>3.0</td>\n",
       "      <td>1</td>\n",
       "      <td>200.0</td>\n",
       "      <td>3.0</td>\n",
       "      <td>17.0</td>\n",
       "      <td>3</td>\n",
       "      <td>110.0</td>\n",
       "      <td>25.0</td>\n",
       "      <td>1</td>\n",
       "      <td>1.0</td>\n",
       "      <td>1.00</td>\n",
       "      <td>51.592193;;</td>\n",
       "    </tr>\n",
       "    <tr>\n",
       "      <th>76</th>\n",
       "      <td>Wheaties Honey Gold</td>\n",
       "      <td>G</td>\n",
       "      <td>C</td>\n",
       "      <td>110.0</td>\n",
       "      <td>2.0</td>\n",
       "      <td>1</td>\n",
       "      <td>200.0</td>\n",
       "      <td>1.0</td>\n",
       "      <td>16.0</td>\n",
       "      <td>8</td>\n",
       "      <td>60.0</td>\n",
       "      <td>25.0</td>\n",
       "      <td>1</td>\n",
       "      <td>1.0</td>\n",
       "      <td>0.75</td>\n",
       "      <td>36.187559;;</td>\n",
       "    </tr>\n",
       "  </tbody>\n",
       "</table>\n",
       "<p>77 rows × 16 columns</p>\n",
       "</div>"
      ],
      "text/plain": [
       "                         name mfr type  calories  protein  fat  sodium  fiber  \\\n",
       "0                   100% Bran   N    C      70.0      4.0    1   130.0   10.0   \n",
       "1           100% Natural Bran   Q    C     120.0      3.0    5    15.0    2.0   \n",
       "2                    All-Bran   K    C      70.0      4.0    1   260.0    9.0   \n",
       "3   All-Bran with Extra Fiber   K    C      50.0      4.0    0   140.0   14.0   \n",
       "4              Almond Delight   R    C     110.0      2.0    2   200.0    1.0   \n",
       "..                        ...  ..  ...       ...      ...  ...     ...    ...   \n",
       "72                    Triples   G    C     110.0      2.0    1   250.0    0.0   \n",
       "73                       Trix   G    C     110.0      1.0    1   140.0    0.0   \n",
       "74                 Wheat Chex   R    C     100.0      3.0    1     NaN    3.0   \n",
       "75                   Wheaties   G    C     100.0      3.0    1   200.0    3.0   \n",
       "76        Wheaties Honey Gold   G    C     110.0      2.0    1   200.0    1.0   \n",
       "\n",
       "    carbo  sugars  potass  vitamins  shelf  weight  cups     rating;;  \n",
       "0     5.0       6   280.0      25.0      3     1.0  0.33  68.402973;;  \n",
       "1     8.0       8   135.0       0.0      3     1.0  1.00  33.983679;;  \n",
       "2     7.0       5   320.0      25.0      3     1.0  0.33  59.425505;;  \n",
       "3     8.0       0   330.0      25.0      3     1.0  0.50  93.704912;;  \n",
       "4    14.0       8    -1.0      25.0      3     1.0  0.75  34.384843;;  \n",
       "..    ...     ...     ...       ...    ...     ...   ...          ...  \n",
       "72   21.0       3    60.0      25.0      3     1.0  0.75  39.106174;;  \n",
       "73   13.0      12    25.0      25.0      2     1.0  1.00  27.753301;;  \n",
       "74   17.0       3   115.0      25.0      1     1.0  0.67  49.787445;;  \n",
       "75   17.0       3   110.0      25.0      1     1.0  1.00  51.592193;;  \n",
       "76   16.0       8    60.0      25.0      1     1.0  0.75  36.187559;;  \n",
       "\n",
       "[77 rows x 16 columns]"
      ]
     },
     "execution_count": 11,
     "metadata": {},
     "output_type": "execute_result"
    }
   ],
   "source": [
    "import pandas as pd\n",
    "df = pd.read_csv('data/cereal.csv')\n",
    "df"
   ]
  },
  {
   "cell_type": "markdown",
   "metadata": {},
   "source": [
    "##### __(a) Are there columns with missing values?__"
   ]
  },
  {
   "cell_type": "code",
   "execution_count": 12,
   "metadata": {},
   "outputs": [
    {
     "data": {
      "text/plain": [
       "name        0\n",
       "mfr         0\n",
       "type        0\n",
       "calories    1\n",
       "protein     2\n",
       "fat         0\n",
       "sodium      1\n",
       "fiber       0\n",
       "carbo       2\n",
       "sugars      0\n",
       "potass      3\n",
       "vitamins    1\n",
       "shelf       0\n",
       "weight      0\n",
       "cups        2\n",
       "rating;;    0\n",
       "dtype: int64"
      ]
     },
     "execution_count": 12,
     "metadata": {},
     "output_type": "execute_result"
    }
   ],
   "source": [
    "df.isnull().sum()"
   ]
  },
  {
   "cell_type": "markdown",
   "metadata": {},
   "source": [
    "##### __(b) Drop all rows that have at least three `NaN` values.__"
   ]
  },
  {
   "cell_type": "code",
   "execution_count": 13,
   "metadata": {},
   "outputs": [
    {
     "data": {
      "text/plain": [
       "name        0\n",
       "mfr         0\n",
       "type        0\n",
       "calories    1\n",
       "protein     2\n",
       "fat         0\n",
       "sodium      1\n",
       "fiber       0\n",
       "carbo       1\n",
       "sugars      0\n",
       "potass      2\n",
       "vitamins    1\n",
       "shelf       0\n",
       "weight      0\n",
       "cups        1\n",
       "rating;;    0\n",
       "dtype: int64"
      ]
     },
     "execution_count": 13,
     "metadata": {},
     "output_type": "execute_result"
    }
   ],
   "source": [
    "df = df.dropna(thresh=df.shape[1]-2)\n",
    "df.isnull().sum()"
   ]
  },
  {
   "cell_type": "code",
   "execution_count": 14,
   "metadata": {},
   "outputs": [
    {
     "data": {
      "text/plain": [
       "(76, 16)"
      ]
     },
     "execution_count": 14,
     "metadata": {},
     "output_type": "execute_result"
    }
   ],
   "source": [
    "df.shape"
   ]
  },
  {
   "cell_type": "markdown",
   "metadata": {},
   "source": [
    "##### __(c) Replace the `NaN` values of remaining columns with missing values using linear interpolation. Limit the maximum number of consecutive `NaN` to fill to ``1``. Are there still `NaN` values and if yes, in which column?__"
   ]
  },
  {
   "cell_type": "code",
   "execution_count": 15,
   "metadata": {},
   "outputs": [
    {
     "name": "stdout",
     "output_type": "stream",
     "text": [
      "DataFrame after linear interpolation:\n"
     ]
    },
    {
     "data": {
      "text/html": [
       "<div>\n",
       "<style scoped>\n",
       "    .dataframe tbody tr th:only-of-type {\n",
       "        vertical-align: middle;\n",
       "    }\n",
       "\n",
       "    .dataframe tbody tr th {\n",
       "        vertical-align: top;\n",
       "    }\n",
       "\n",
       "    .dataframe thead th {\n",
       "        text-align: right;\n",
       "    }\n",
       "</style>\n",
       "<table border=\"1\" class=\"dataframe\">\n",
       "  <thead>\n",
       "    <tr style=\"text-align: right;\">\n",
       "      <th></th>\n",
       "      <th>name</th>\n",
       "      <th>mfr</th>\n",
       "      <th>type</th>\n",
       "      <th>calories</th>\n",
       "      <th>protein</th>\n",
       "      <th>fat</th>\n",
       "      <th>sodium</th>\n",
       "      <th>fiber</th>\n",
       "      <th>carbo</th>\n",
       "      <th>sugars</th>\n",
       "      <th>potass</th>\n",
       "      <th>vitamins</th>\n",
       "      <th>shelf</th>\n",
       "      <th>weight</th>\n",
       "      <th>cups</th>\n",
       "      <th>rating;;</th>\n",
       "    </tr>\n",
       "  </thead>\n",
       "  <tbody>\n",
       "    <tr>\n",
       "      <th>0</th>\n",
       "      <td>100% Bran</td>\n",
       "      <td>N</td>\n",
       "      <td>C</td>\n",
       "      <td>70.0</td>\n",
       "      <td>4.0</td>\n",
       "      <td>1</td>\n",
       "      <td>130.0</td>\n",
       "      <td>10.0</td>\n",
       "      <td>5.0</td>\n",
       "      <td>6</td>\n",
       "      <td>280.0</td>\n",
       "      <td>25.0</td>\n",
       "      <td>3</td>\n",
       "      <td>1.0</td>\n",
       "      <td>0.33</td>\n",
       "      <td>68.402973;;</td>\n",
       "    </tr>\n",
       "    <tr>\n",
       "      <th>1</th>\n",
       "      <td>100% Natural Bran</td>\n",
       "      <td>Q</td>\n",
       "      <td>C</td>\n",
       "      <td>120.0</td>\n",
       "      <td>3.0</td>\n",
       "      <td>5</td>\n",
       "      <td>15.0</td>\n",
       "      <td>2.0</td>\n",
       "      <td>8.0</td>\n",
       "      <td>8</td>\n",
       "      <td>135.0</td>\n",
       "      <td>0.0</td>\n",
       "      <td>3</td>\n",
       "      <td>1.0</td>\n",
       "      <td>1.00</td>\n",
       "      <td>33.983679;;</td>\n",
       "    </tr>\n",
       "    <tr>\n",
       "      <th>2</th>\n",
       "      <td>All-Bran</td>\n",
       "      <td>K</td>\n",
       "      <td>C</td>\n",
       "      <td>70.0</td>\n",
       "      <td>4.0</td>\n",
       "      <td>1</td>\n",
       "      <td>260.0</td>\n",
       "      <td>9.0</td>\n",
       "      <td>7.0</td>\n",
       "      <td>5</td>\n",
       "      <td>320.0</td>\n",
       "      <td>25.0</td>\n",
       "      <td>3</td>\n",
       "      <td>1.0</td>\n",
       "      <td>0.33</td>\n",
       "      <td>59.425505;;</td>\n",
       "    </tr>\n",
       "    <tr>\n",
       "      <th>3</th>\n",
       "      <td>All-Bran with Extra Fiber</td>\n",
       "      <td>K</td>\n",
       "      <td>C</td>\n",
       "      <td>50.0</td>\n",
       "      <td>4.0</td>\n",
       "      <td>0</td>\n",
       "      <td>140.0</td>\n",
       "      <td>14.0</td>\n",
       "      <td>8.0</td>\n",
       "      <td>0</td>\n",
       "      <td>330.0</td>\n",
       "      <td>25.0</td>\n",
       "      <td>3</td>\n",
       "      <td>1.0</td>\n",
       "      <td>0.50</td>\n",
       "      <td>93.704912;;</td>\n",
       "    </tr>\n",
       "    <tr>\n",
       "      <th>4</th>\n",
       "      <td>Almond Delight</td>\n",
       "      <td>R</td>\n",
       "      <td>C</td>\n",
       "      <td>110.0</td>\n",
       "      <td>2.0</td>\n",
       "      <td>2</td>\n",
       "      <td>200.0</td>\n",
       "      <td>1.0</td>\n",
       "      <td>14.0</td>\n",
       "      <td>8</td>\n",
       "      <td>-1.0</td>\n",
       "      <td>25.0</td>\n",
       "      <td>3</td>\n",
       "      <td>1.0</td>\n",
       "      <td>0.75</td>\n",
       "      <td>34.384843;;</td>\n",
       "    </tr>\n",
       "    <tr>\n",
       "      <th>...</th>\n",
       "      <td>...</td>\n",
       "      <td>...</td>\n",
       "      <td>...</td>\n",
       "      <td>...</td>\n",
       "      <td>...</td>\n",
       "      <td>...</td>\n",
       "      <td>...</td>\n",
       "      <td>...</td>\n",
       "      <td>...</td>\n",
       "      <td>...</td>\n",
       "      <td>...</td>\n",
       "      <td>...</td>\n",
       "      <td>...</td>\n",
       "      <td>...</td>\n",
       "      <td>...</td>\n",
       "      <td>...</td>\n",
       "    </tr>\n",
       "    <tr>\n",
       "      <th>72</th>\n",
       "      <td>Triples</td>\n",
       "      <td>G</td>\n",
       "      <td>C</td>\n",
       "      <td>110.0</td>\n",
       "      <td>2.0</td>\n",
       "      <td>1</td>\n",
       "      <td>250.0</td>\n",
       "      <td>0.0</td>\n",
       "      <td>21.0</td>\n",
       "      <td>3</td>\n",
       "      <td>60.0</td>\n",
       "      <td>25.0</td>\n",
       "      <td>3</td>\n",
       "      <td>1.0</td>\n",
       "      <td>0.75</td>\n",
       "      <td>39.106174;;</td>\n",
       "    </tr>\n",
       "    <tr>\n",
       "      <th>73</th>\n",
       "      <td>Trix</td>\n",
       "      <td>G</td>\n",
       "      <td>C</td>\n",
       "      <td>110.0</td>\n",
       "      <td>1.0</td>\n",
       "      <td>1</td>\n",
       "      <td>140.0</td>\n",
       "      <td>0.0</td>\n",
       "      <td>13.0</td>\n",
       "      <td>12</td>\n",
       "      <td>25.0</td>\n",
       "      <td>25.0</td>\n",
       "      <td>2</td>\n",
       "      <td>1.0</td>\n",
       "      <td>1.00</td>\n",
       "      <td>27.753301;;</td>\n",
       "    </tr>\n",
       "    <tr>\n",
       "      <th>74</th>\n",
       "      <td>Wheat Chex</td>\n",
       "      <td>R</td>\n",
       "      <td>C</td>\n",
       "      <td>100.0</td>\n",
       "      <td>3.0</td>\n",
       "      <td>1</td>\n",
       "      <td>170.0</td>\n",
       "      <td>3.0</td>\n",
       "      <td>17.0</td>\n",
       "      <td>3</td>\n",
       "      <td>115.0</td>\n",
       "      <td>25.0</td>\n",
       "      <td>1</td>\n",
       "      <td>1.0</td>\n",
       "      <td>0.67</td>\n",
       "      <td>49.787445;;</td>\n",
       "    </tr>\n",
       "    <tr>\n",
       "      <th>75</th>\n",
       "      <td>Wheaties</td>\n",
       "      <td>G</td>\n",
       "      <td>C</td>\n",
       "      <td>100.0</td>\n",
       "      <td>3.0</td>\n",
       "      <td>1</td>\n",
       "      <td>200.0</td>\n",
       "      <td>3.0</td>\n",
       "      <td>17.0</td>\n",
       "      <td>3</td>\n",
       "      <td>110.0</td>\n",
       "      <td>25.0</td>\n",
       "      <td>1</td>\n",
       "      <td>1.0</td>\n",
       "      <td>1.00</td>\n",
       "      <td>51.592193;;</td>\n",
       "    </tr>\n",
       "    <tr>\n",
       "      <th>76</th>\n",
       "      <td>Wheaties Honey Gold</td>\n",
       "      <td>G</td>\n",
       "      <td>C</td>\n",
       "      <td>110.0</td>\n",
       "      <td>2.0</td>\n",
       "      <td>1</td>\n",
       "      <td>200.0</td>\n",
       "      <td>1.0</td>\n",
       "      <td>16.0</td>\n",
       "      <td>8</td>\n",
       "      <td>60.0</td>\n",
       "      <td>25.0</td>\n",
       "      <td>1</td>\n",
       "      <td>1.0</td>\n",
       "      <td>0.75</td>\n",
       "      <td>36.187559;;</td>\n",
       "    </tr>\n",
       "  </tbody>\n",
       "</table>\n",
       "<p>76 rows × 16 columns</p>\n",
       "</div>"
      ],
      "text/plain": [
       "                         name mfr type  calories  protein  fat  sodium  fiber  \\\n",
       "0                   100% Bran   N    C      70.0      4.0    1   130.0   10.0   \n",
       "1           100% Natural Bran   Q    C     120.0      3.0    5    15.0    2.0   \n",
       "2                    All-Bran   K    C      70.0      4.0    1   260.0    9.0   \n",
       "3   All-Bran with Extra Fiber   K    C      50.0      4.0    0   140.0   14.0   \n",
       "4              Almond Delight   R    C     110.0      2.0    2   200.0    1.0   \n",
       "..                        ...  ..  ...       ...      ...  ...     ...    ...   \n",
       "72                    Triples   G    C     110.0      2.0    1   250.0    0.0   \n",
       "73                       Trix   G    C     110.0      1.0    1   140.0    0.0   \n",
       "74                 Wheat Chex   R    C     100.0      3.0    1   170.0    3.0   \n",
       "75                   Wheaties   G    C     100.0      3.0    1   200.0    3.0   \n",
       "76        Wheaties Honey Gold   G    C     110.0      2.0    1   200.0    1.0   \n",
       "\n",
       "    carbo  sugars  potass  vitamins  shelf  weight  cups     rating;;  \n",
       "0     5.0       6   280.0      25.0      3     1.0  0.33  68.402973;;  \n",
       "1     8.0       8   135.0       0.0      3     1.0  1.00  33.983679;;  \n",
       "2     7.0       5   320.0      25.0      3     1.0  0.33  59.425505;;  \n",
       "3     8.0       0   330.0      25.0      3     1.0  0.50  93.704912;;  \n",
       "4    14.0       8    -1.0      25.0      3     1.0  0.75  34.384843;;  \n",
       "..    ...     ...     ...       ...    ...     ...   ...          ...  \n",
       "72   21.0       3    60.0      25.0      3     1.0  0.75  39.106174;;  \n",
       "73   13.0      12    25.0      25.0      2     1.0  1.00  27.753301;;  \n",
       "74   17.0       3   115.0      25.0      1     1.0  0.67  49.787445;;  \n",
       "75   17.0       3   110.0      25.0      1     1.0  1.00  51.592193;;  \n",
       "76   16.0       8    60.0      25.0      1     1.0  0.75  36.187559;;  \n",
       "\n",
       "[76 rows x 16 columns]"
      ]
     },
     "execution_count": 15,
     "metadata": {},
     "output_type": "execute_result"
    }
   ],
   "source": [
    "df_interpolated = df.interpolate(limit=1)\n",
    "\n",
    "nan_columns = df_interpolated.columns[df_interpolated.isnull().any()]\n",
    "\n",
    "# Print the DataFrame after interpolation\n",
    "print(\"DataFrame after linear interpolation:\")\n",
    "df_interpolated"
   ]
  },
  {
   "cell_type": "code",
   "execution_count": 16,
   "metadata": {},
   "outputs": [
    {
     "name": "stdout",
     "output_type": "stream",
     "text": [
      "\n",
      "No remaining NaN values in any column.\n"
     ]
    }
   ],
   "source": [
    "if len(nan_columns) > 0:\n",
    "    print(\"\\nColumns with remaining NaN values:\", nan_columns)\n",
    "else:\n",
    "    print(\"\\nNo remaining NaN values in any column.\")"
   ]
  },
  {
   "cell_type": "markdown",
   "metadata": {},
   "source": [
    "---"
   ]
  },
  {
   "cell_type": "markdown",
   "metadata": {},
   "source": [
    "#### Exercise 4: Binning\n",
    "The following data consists of the age of several people: \n",
    "```\n",
    "> [2, 19, 21, 23, 24, 25, 28, 29, 30, 30, 33, 35, 36, 36, 40, 45, 46, 48, 48, 48, 52, 54, 56, 58, 59, 59, 62]\n",
    "\n",
    "```"
   ]
  },
  {
   "cell_type": "markdown",
   "metadata": {},
   "source": [
    "##### __(a) Apply binning to the dataset using 3 equal-width bins. Smooth the data using the mean of the bins. Explain the steps of your approach and give the final result.__\n",
    "##### __Please solve this exercise by hand without using Python__ "
   ]
  },
  {
   "cell_type": "markdown",
   "metadata": {},
   "source": [
    "```\n",
    ">>  (1) Determine the range and width of each bin:\n",
    "        Bin Width = (62-2) / 3 = 60 / 3 = 20\n",
    "\n",
    "    (2) define the bin ranges:\n",
    "        [2, 21], [22, 41], [42, 62]\n",
    "\n",
    "    (3) Assign data points to bins:\n",
    "        Bin 1: 2, 19, 21\n",
    "        Bin 2: 23, 24, 25, 28, 29, 30, 30, 33, 35, 36, 36, 40\n",
    "        Bin 3: 45, 46, 48, 48, 48, 52, 54, 56, 58, 59, 59, 62\n",
    "\n",
    "    (4) Calculate the mean of each bin:\n",
    "        Bin 1 Mean: (2+19+21) / 3 = 14 \n",
    "        Bin 2 Mean: (23+24+25+28+29+30+30+33+35+36+36+40) / 12 ≈ 29.9\n",
    "        Bin 3 Mean: (45+46+48+48+48+52+54+56+58+59+59+62) / 12 ≈ 52.9\n",
    "\n",
    "    (5) Smoothing by bin means:\n",
    "        Bin1: 14,14,14\n",
    "        Bin2: 29.9, 29.9, 29.9, 29.9, 29.9, 29.9, 29.9, 29.9, 29.9, 29.9, 29.9, 29.9\n",
    "        Bin3: 52.9, 52.9, 52.9, 52.9, 52.9, 52.9, 52.9, 52.9, 52.9, 52.9, 52.9, 52.9\n",
    "```"
   ]
  },
  {
   "cell_type": "markdown",
   "metadata": {
    "tags": []
   },
   "source": [
    "##### __(b) Apply binning to the dataset using 3 equal-depth bins. Smooth the data using the mean of the bins. Explain the steps of your approach and give the final result.__\n",
    "##### __Please solve this exercise by hand without using Python__ "
   ]
  },
  {
   "cell_type": "markdown",
   "metadata": {},
   "source": [
    "```\n",
    ">> (1) Equal-depth binning:\n",
    "        Bin1: 2, 19, 21, 23, 24, 25, 28, 29, 30\n",
    "        Bin2: 30, 33, 35, 36, 36, 40, 45, 46, 48\n",
    "        Bin3: 48, 48, 52, 54, 56, 58, 59, 59, 62\n",
    "\n",
    "   (2) Calculate the Mean of Each Bin:\n",
    "        Bin 1 Mean: (2+19+21+23+24+25+28+29+30) / 9 = 22.3\n",
    "        Bin 2 Mean: (30+33+35+36+36+40+45+46+48) / 9 = 38.7\n",
    "        Bin 3 Mean: (48+48+52+54+56+58+59+59+62) / 9 = 55.1\n",
    "\n",
    "   (3) Smoothing by bin means:\n",
    "        Bin1: 22.3, 22.3, 22.3, 22.3, 22.3, 22.3, 22.3, 22.3, 22.3\n",
    "        Bin2: 38.7, 38.7, 38.7, 38.7, 38.7, 38.7, 38.7, 38.7, 38.7\n",
    "        Bin3: 55.1, 55.1, 55.1, 55.1, 55.1, 55.1, 55.1, 55.1, 55.1\n",
    "```"
   ]
  },
  {
   "cell_type": "markdown",
   "metadata": {},
   "source": [
    "##### __(c) Compare the results from a) and b). Give one reason why equal-depth binning might be preferable in this scenario.__"
   ]
  },
  {
   "cell_type": "code",
   "execution_count": 17,
   "metadata": {},
   "outputs": [
    {
     "data": {
      "image/png": "[encoded data removed]",
      "text/plain": [
       "<Figure size 640x480 with 1 Axes>"
      ]
     },
     "metadata": {},
     "output_type": "display_data"
    },
    {
     "data": {
      "image/png": "[encoded data removed]",
      "text/plain": [
       "<Figure size 640x480 with 1 Axes>"
      ]
     },
     "metadata": {},
     "output_type": "display_data"
    }
   ],
   "source": [
    "import matplotlib.pyplot as plt\n",
    "\n",
    "# Given data\n",
    "data1 = [2, 19, 21, 23, 24, 25, 28, 29, 30, 30, 33, 35, 36, 36, 40, 45, 46, 48, 48, 48, 52, 54, 56, 58, 59, 59, 62]\n",
    "data2 = [14,14,14,29.9, 29.9, 29.9, 29.9, 29.9, 29.9, 29.9, 29.9, 29.9, 29.9, 29.9, 29.9,52.9, 52.9, 52.9, 52.9, 52.9, 52.9, 52.9, 52.9, 52.9, 52.9, 52.9, 52.9]\n",
    "data3 = [22.3, 22.3, 22.3, 22.3, 22.3, 22.3, 22.3, 22.3, 22.3,38.7, 38.7, 38.7, 38.7, 38.7, 38.7, 38.7, 38.7, 38.7,55.1, 55.1, 55.1, 55.1, 55.1, 55.1, 55.1, 55.1, 55.1]\n",
    "\n",
    "plt.plot(data1, label=\"Original Data\")\n",
    "plt.plot(data2, label=\"Equal width\")\n",
    "plt.legend()  # This line adds the legend\n",
    "plt.show()\n",
    "\n",
    "\n",
    "plt.plot(data1, label=\"Original Data\")\n",
    "plt.plot(data3, label=\"Equal depth\")\n",
    "plt.legend()  # This line adds the legend\n",
    "plt.show()\n"
   ]
  },
  {
   "cell_type": "markdown",
   "metadata": {},
   "source": [
    "```\n",
    ">> Equal-depth binning tends to capture the underlying patterns in the data more effectively, \n",
    "   as each bin represents a similar proportion of the dataset."
   ]
  },
  {
   "cell_type": "markdown",
   "metadata": {},
   "source": [
    "---"
   ]
  },
  {
   "cell_type": "markdown",
   "metadata": {},
   "source": [
    "#### Exercise 4: Normalization"
   ]
  },
  {
   "cell_type": "markdown",
   "metadata": {
    "tags": []
   },
   "source": [
    "##### __(a) Which of the columns in the following table can be normalized using the linear or logarithmic min-max normalization? Discuss if the normalization is useful or not.__\n",
    "\n",
    "|id |Gender|Size (cm)|Weight (kg)|Hair Color|Blood Type|Glasses|Salary(€)|\n",
    "|---|------|---------|-----------|----------|----------|-------|------|\n",
    "|22|Female|175|65|red|A|yes|3900|\n",
    "|23|Female|176|71|red|AB|yes|4200|\n",
    "|24|Female|176|71|red|O|yes|2800|\n",
    "|25|Female|179|69|black|B|yes|5100|\n",
    "|26|Female|195|62|black|B|no|3850|\n",
    "|27|Female|204|64|black|O|yes|2200|\n",
    "|28|Female|163|70|brown|AB|no|8000|\n",
    "|29|Female|172|62|brown|AB|no|1900|\n",
    "|30|Female|166|52|brown|AB|no|4450|\n",
    "|31|Female|182|67|brown|AB|no|3900|\n",
    "|32|Female|168|70|brown|O|yes|65000|\n",
    "|33|Female|168|59|blond|B|no|450|\n",
    "|34|Male|168|62|black|B|no|5100|\n",
    "|35|Male|178|63|red|B|no|450|\n",
    "|36|Male|178|59|red|AB|no|2900|\n",
    "|37|Male|172|67|brown|A|yes|3200|\n",
    "|38|Male|172|58|brown|A|no|3100|\n",
    "|39|Male|185|62|brown|A|no|10500|\n",
    "|40|Male|190|76|black|B|yes|2800|\n",
    "|41|Male|184|70|black|B|yes|4100|"
   ]
  },
  {
   "cell_type": "markdown",
   "metadata": {},
   "source": [
    "```\n",
    ">> \"Size\", \"Weight\", and \"Salary\" can be normalized, and it's usually beneficial for two reasons:\n",
    "\n",
    "    (1) Many machine learning algorithms are sensitive to the scale of input features.\n",
    "        Normalization can help these algorithms converge faster and improve overall model performance.\n",
    "\n",
    "    (2) The dataset contains numerical features with different scales, \n",
    "        normalization can ensure that all features contribute equally to the analysis.\n",
    "```"
   ]
  },
  {
   "cell_type": "markdown",
   "metadata": {
    "tags": []
   },
   "source": [
    "##### __(b) Using the column “Size”, use linear min-max normalization to transform the values ``168, 182, 195`` into the range ``[0, 1]``. Give the formula used to compute the values, including min/max value.__"
   ]
  },
  {
   "cell_type": "markdown",
   "metadata": {},
   "source": [
    "```\n",
    ">> X normalized = (X - X min) / (X max - X min)\n",
    "\n",
    "​   (1) for X = 168: \n",
    "            X normalized = (168 - 168) / (195 - 168) = 0\n",
    "\n",
    "   (2) for X = 182:\n",
    "            X normalized = (182 - 168) / (195 - 168) ≈ 0.5185\n",
    "\n",
    "​   (3) for X = 195:\n",
    "            X normalized = (195 - 168) / (195 - 168) = 1\n",
    "​\n",
    "   The linear min-max normalized values for [168, 182, 195] into the range[0, 1] are \"[0, 0.5185, 1]\".\n",
    "```"
   ]
  },
  {
   "cell_type": "markdown",
   "metadata": {
    "tags": []
   },
   "source": [
    "##### __(c) Using the column “Weight”, use logarithmic min-max normalization to transform the values ``59, 63, 70`` into the range ``[0, 1]``. Give the formula used to compute the values, in-cluding min/max value__"
   ]
  },
  {
   "cell_type": "markdown",
   "metadata": {},
   "source": [
    "```\n",
    ">> X normalized = (log(X) - log(X min)) / (log(X max) - log(X min))\n",
    "​   \n",
    "    (1) for X = 59\n",
    "            X normalized = (log(59) - log(59)) / (log(70) - log(59))\n",
    "                         = 0\n",
    "\n",
    "    (2) for X = 63\n",
    "            X normalized = (log(63) - log(59)) / (log(70) - log(59))\n",
    "                         ≈ 0.3837\n",
    "\n",
    "    (3) for X = 70\n",
    "            X normalized = (log(70) - log(59)) / (log(70) - log(59))\n",
    "                         = 1\n",
    " \n",
    "    The logarithmic min-max normalized values for [59, 63, 70] into the range[0, 1] are \"[0, 0.3837, 1]\".\n",
    "```"
   ]
  },
  {
   "cell_type": "markdown",
   "metadata": {
    "tags": []
   },
   "source": [
    "##### __(d) Which of the two normalization methods (linear & logarithmic) would you use for the column ``salary`` if you want to use your normalized data later on for some statistical modeling? Briefly explain your choice.__"
   ]
  },
  {
   "cell_type": "markdown",
   "metadata": {},
   "source": [
    "```\n",
    ">> The \"Salary\" distribution seems to contains extreme values, and thus logarithmic min-max normalization might be more appropriate. \n",
    "   This method can help reduce the impact of extreme values and ensure a more balanced representation of salary differences.\n",
    "```"
   ]
  },
  {
   "cell_type": "markdown",
   "metadata": {},
   "source": [
    "##### __(e) Write a function to normalize all columns of the following dataframe using the square root min-max normalization.__"
   ]
  },
  {
   "cell_type": "code",
   "execution_count": 18,
   "metadata": {},
   "outputs": [
    {
     "name": "stdout",
     "output_type": "stream",
     "text": [
      "     a    b      c\n",
      "0    0  750  11122\n",
      "1    1  751  11123\n",
      "2    2  752  11124\n",
      "3    3  753  11125\n",
      "4    4  754  11126\n",
      "..  ..  ...    ...\n",
      "95  95  845  11217\n",
      "96  96  846  11218\n",
      "97  97  847  11219\n",
      "98  98  848  11220\n",
      "99  99  849  11221\n",
      "\n",
      "[100 rows x 3 columns]\n"
     ]
    }
   ],
   "source": [
    "import pandas as pd\n",
    "df_nom = pd.DataFrame(list(zip(range(0, 100) , range(750, 850), range(11122, 11222))), \n",
    "               columns =['a', 'b', 'c'])\n",
    "print(df_nom)"
   ]
  },
  {
   "cell_type": "code",
   "execution_count": 19,
   "metadata": {},
   "outputs": [
    {
     "name": "stdout",
     "output_type": "stream",
     "text": [
      "Normalized DataFrame:\n"
     ]
    },
    {
     "data": {
      "text/html": [
       "<div>\n",
       "<style scoped>\n",
       "    .dataframe tbody tr th:only-of-type {\n",
       "        vertical-align: middle;\n",
       "    }\n",
       "\n",
       "    .dataframe tbody tr th {\n",
       "        vertical-align: top;\n",
       "    }\n",
       "\n",
       "    .dataframe thead th {\n",
       "        text-align: right;\n",
       "    }\n",
       "</style>\n",
       "<table border=\"1\" class=\"dataframe\">\n",
       "  <thead>\n",
       "    <tr style=\"text-align: right;\">\n",
       "      <th></th>\n",
       "      <th>a</th>\n",
       "      <th>b</th>\n",
       "      <th>c</th>\n",
       "    </tr>\n",
       "  </thead>\n",
       "  <tbody>\n",
       "    <tr>\n",
       "      <th>0</th>\n",
       "      <td>0.000000</td>\n",
       "      <td>0.000000</td>\n",
       "      <td>0.000000</td>\n",
       "    </tr>\n",
       "    <tr>\n",
       "      <th>1</th>\n",
       "      <td>0.100504</td>\n",
       "      <td>0.100504</td>\n",
       "      <td>0.100504</td>\n",
       "    </tr>\n",
       "    <tr>\n",
       "      <th>2</th>\n",
       "      <td>0.142134</td>\n",
       "      <td>0.142134</td>\n",
       "      <td>0.142134</td>\n",
       "    </tr>\n",
       "    <tr>\n",
       "      <th>3</th>\n",
       "      <td>0.174078</td>\n",
       "      <td>0.174078</td>\n",
       "      <td>0.174078</td>\n",
       "    </tr>\n",
       "    <tr>\n",
       "      <th>4</th>\n",
       "      <td>0.201008</td>\n",
       "      <td>0.201008</td>\n",
       "      <td>0.201008</td>\n",
       "    </tr>\n",
       "    <tr>\n",
       "      <th>...</th>\n",
       "      <td>...</td>\n",
       "      <td>...</td>\n",
       "      <td>...</td>\n",
       "    </tr>\n",
       "    <tr>\n",
       "      <th>95</th>\n",
       "      <td>0.979590</td>\n",
       "      <td>0.979590</td>\n",
       "      <td>0.979590</td>\n",
       "    </tr>\n",
       "    <tr>\n",
       "      <th>96</th>\n",
       "      <td>0.984732</td>\n",
       "      <td>0.984732</td>\n",
       "      <td>0.984732</td>\n",
       "    </tr>\n",
       "    <tr>\n",
       "      <th>97</th>\n",
       "      <td>0.989847</td>\n",
       "      <td>0.989847</td>\n",
       "      <td>0.989847</td>\n",
       "    </tr>\n",
       "    <tr>\n",
       "      <th>98</th>\n",
       "      <td>0.994937</td>\n",
       "      <td>0.994937</td>\n",
       "      <td>0.994937</td>\n",
       "    </tr>\n",
       "    <tr>\n",
       "      <th>99</th>\n",
       "      <td>1.000000</td>\n",
       "      <td>1.000000</td>\n",
       "      <td>1.000000</td>\n",
       "    </tr>\n",
       "  </tbody>\n",
       "</table>\n",
       "<p>100 rows × 3 columns</p>\n",
       "</div>"
      ],
      "text/plain": [
       "           a         b         c\n",
       "0   0.000000  0.000000  0.000000\n",
       "1   0.100504  0.100504  0.100504\n",
       "2   0.142134  0.142134  0.142134\n",
       "3   0.174078  0.174078  0.174078\n",
       "4   0.201008  0.201008  0.201008\n",
       "..       ...       ...       ...\n",
       "95  0.979590  0.979590  0.979590\n",
       "96  0.984732  0.984732  0.984732\n",
       "97  0.989847  0.989847  0.989847\n",
       "98  0.994937  0.994937  0.994937\n",
       "99  1.000000  1.000000  1.000000\n",
       "\n",
       "[100 rows x 3 columns]"
      ]
     },
     "execution_count": 19,
     "metadata": {},
     "output_type": "execute_result"
    }
   ],
   "source": [
    "def sqrt_min_max_normalize(df):\n",
    "    \n",
    "    df_normalized = df.copy()\n",
    "\n",
    "    for column in df.columns:\n",
    "        min_val = df[column].min()\n",
    "        max_val = df[column].max()\n",
    "\n",
    "        if min_val != max_val:\n",
    "            df_normalized[column] = np.sqrt((df[column] - min_val) / (max_val - min_val))\n",
    "        else:\n",
    "            df_normalized[column] = 0.0\n",
    "\n",
    "    return df_normalized\n",
    "\n",
    "df_normalized_sample = sqrt_min_max_normalize(df_nom)\n",
    "\n",
    "print(\"Normalized DataFrame:\")\n",
    "df_normalized_sample"
   ]
  },
  {
   "cell_type": "markdown",
   "metadata": {},
   "source": [
    "***<span style=\"color:orange\">Feedback: </span>***\n",
    "- 1b) count is not a mathematical iperation\n",
    "- 3c) limit_direction='both' is not used as default\n",
    "- 4a) mean is wrong for bin2\n",
    "- 4c) also one bin is very small\n",
    "- 5b+c) is wrong as the colums should be used for the min and max\n",
    "- 5e) can be done more easily"
   ]
  },
  {
   "cell_type": "markdown",
   "metadata": {},
   "source": [
    "***<span style=\"color:green\">Still good! Grade:green</span>***"
   ]
  }
 ],
 "metadata": {
  "kernelspec": {
   "display_name": "Python 3 (ipykernel)",
   "language": "python",
   "name": "python3"
  },
  "language_info": {
   "codemirror_mode": {
    "name": "ipython",
    "version": 3
   },
   "file_extension": ".py",
   "mimetype": "text/x-python",
   "name": "python",
   "nbconvert_exporter": "python",
   "pygments_lexer": "ipython3",
   "version": "3.11.6"
  }
 },
 "nbformat": 4,
 "nbformat_minor": 4
}
